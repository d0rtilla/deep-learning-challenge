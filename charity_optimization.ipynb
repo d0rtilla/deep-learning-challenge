{
  "cells": [
    {
      "cell_type": "markdown",
      "metadata": {
        "id": "view-in-github",
        "colab_type": "text"
      },
      "source": [
        "<a href=\"https://colab.research.google.com/github/d0rtilla/deep-learning-challenge/blob/main/charity_optimization.ipynb\" target=\"_parent\"><img src=\"https://colab.research.google.com/assets/colab-badge.svg\" alt=\"Open In Colab\"/></a>"
      ]
    },
    {
      "cell_type": "markdown",
      "metadata": {
        "id": "0oxn7rMrMzV1"
      },
      "source": [
        "## Preprocessing"
      ]
    },
    {
      "cell_type": "code",
      "source": [
        "url = 'https://raw.githubusercontent.com/d0rtilla/deep-learning-challenge/main/resources/charity_data.csv' "
      ],
      "metadata": {
        "id": "ntPnqkDQNCZR"
      },
      "execution_count": 2,
      "outputs": []
    },
    {
      "cell_type": "code",
      "execution_count": 3,
      "metadata": {
        "id": "seDSmOwXMzV2",
        "outputId": "88510814-c73b-402b-dff3-20b51b6cca9f",
        "colab": {
          "base_uri": "https://localhost:8080/",
          "height": 250
        }
      },
      "outputs": [
        {
          "output_type": "execute_result",
          "data": {
            "text/plain": [
              "        EIN                                      NAME APPLICATION_TYPE  \\\n",
              "0  10520599              BLUE KNIGHTS MOTORCYCLE CLUB              T10   \n",
              "1  10531628    AMERICAN CHESAPEAKE CLUB CHARITABLE TR               T3   \n",
              "2  10547893        ST CLOUD PROFESSIONAL FIREFIGHTERS               T5   \n",
              "3  10553066            SOUTHSIDE ATHLETIC ASSOCIATION               T3   \n",
              "4  10556103  GENETIC RESEARCH INSTITUTE OF THE DESERT               T3   \n",
              "\n",
              "        AFFILIATION CLASSIFICATION      USE_CASE  ORGANIZATION  STATUS  \\\n",
              "0       Independent          C1000    ProductDev   Association       1   \n",
              "1       Independent          C2000  Preservation  Co-operative       1   \n",
              "2  CompanySponsored          C3000    ProductDev   Association       1   \n",
              "3  CompanySponsored          C2000  Preservation         Trust       1   \n",
              "4       Independent          C1000     Heathcare         Trust       1   \n",
              "\n",
              "      INCOME_AMT SPECIAL_CONSIDERATIONS  ASK_AMT  IS_SUCCESSFUL  \n",
              "0              0                      N     5000              1  \n",
              "1         1-9999                      N   108590              1  \n",
              "2              0                      N     5000              0  \n",
              "3    10000-24999                      N     6692              1  \n",
              "4  100000-499999                      N   142590              1  "
            ],
            "text/html": [
              "\n",
              "  <div id=\"df-2371733c-51bd-4f44-b916-9675b7943dc5\">\n",
              "    <div class=\"colab-df-container\">\n",
              "      <div>\n",
              "<style scoped>\n",
              "    .dataframe tbody tr th:only-of-type {\n",
              "        vertical-align: middle;\n",
              "    }\n",
              "\n",
              "    .dataframe tbody tr th {\n",
              "        vertical-align: top;\n",
              "    }\n",
              "\n",
              "    .dataframe thead th {\n",
              "        text-align: right;\n",
              "    }\n",
              "</style>\n",
              "<table border=\"1\" class=\"dataframe\">\n",
              "  <thead>\n",
              "    <tr style=\"text-align: right;\">\n",
              "      <th></th>\n",
              "      <th>EIN</th>\n",
              "      <th>NAME</th>\n",
              "      <th>APPLICATION_TYPE</th>\n",
              "      <th>AFFILIATION</th>\n",
              "      <th>CLASSIFICATION</th>\n",
              "      <th>USE_CASE</th>\n",
              "      <th>ORGANIZATION</th>\n",
              "      <th>STATUS</th>\n",
              "      <th>INCOME_AMT</th>\n",
              "      <th>SPECIAL_CONSIDERATIONS</th>\n",
              "      <th>ASK_AMT</th>\n",
              "      <th>IS_SUCCESSFUL</th>\n",
              "    </tr>\n",
              "  </thead>\n",
              "  <tbody>\n",
              "    <tr>\n",
              "      <th>0</th>\n",
              "      <td>10520599</td>\n",
              "      <td>BLUE KNIGHTS MOTORCYCLE CLUB</td>\n",
              "      <td>T10</td>\n",
              "      <td>Independent</td>\n",
              "      <td>C1000</td>\n",
              "      <td>ProductDev</td>\n",
              "      <td>Association</td>\n",
              "      <td>1</td>\n",
              "      <td>0</td>\n",
              "      <td>N</td>\n",
              "      <td>5000</td>\n",
              "      <td>1</td>\n",
              "    </tr>\n",
              "    <tr>\n",
              "      <th>1</th>\n",
              "      <td>10531628</td>\n",
              "      <td>AMERICAN CHESAPEAKE CLUB CHARITABLE TR</td>\n",
              "      <td>T3</td>\n",
              "      <td>Independent</td>\n",
              "      <td>C2000</td>\n",
              "      <td>Preservation</td>\n",
              "      <td>Co-operative</td>\n",
              "      <td>1</td>\n",
              "      <td>1-9999</td>\n",
              "      <td>N</td>\n",
              "      <td>108590</td>\n",
              "      <td>1</td>\n",
              "    </tr>\n",
              "    <tr>\n",
              "      <th>2</th>\n",
              "      <td>10547893</td>\n",
              "      <td>ST CLOUD PROFESSIONAL FIREFIGHTERS</td>\n",
              "      <td>T5</td>\n",
              "      <td>CompanySponsored</td>\n",
              "      <td>C3000</td>\n",
              "      <td>ProductDev</td>\n",
              "      <td>Association</td>\n",
              "      <td>1</td>\n",
              "      <td>0</td>\n",
              "      <td>N</td>\n",
              "      <td>5000</td>\n",
              "      <td>0</td>\n",
              "    </tr>\n",
              "    <tr>\n",
              "      <th>3</th>\n",
              "      <td>10553066</td>\n",
              "      <td>SOUTHSIDE ATHLETIC ASSOCIATION</td>\n",
              "      <td>T3</td>\n",
              "      <td>CompanySponsored</td>\n",
              "      <td>C2000</td>\n",
              "      <td>Preservation</td>\n",
              "      <td>Trust</td>\n",
              "      <td>1</td>\n",
              "      <td>10000-24999</td>\n",
              "      <td>N</td>\n",
              "      <td>6692</td>\n",
              "      <td>1</td>\n",
              "    </tr>\n",
              "    <tr>\n",
              "      <th>4</th>\n",
              "      <td>10556103</td>\n",
              "      <td>GENETIC RESEARCH INSTITUTE OF THE DESERT</td>\n",
              "      <td>T3</td>\n",
              "      <td>Independent</td>\n",
              "      <td>C1000</td>\n",
              "      <td>Heathcare</td>\n",
              "      <td>Trust</td>\n",
              "      <td>1</td>\n",
              "      <td>100000-499999</td>\n",
              "      <td>N</td>\n",
              "      <td>142590</td>\n",
              "      <td>1</td>\n",
              "    </tr>\n",
              "  </tbody>\n",
              "</table>\n",
              "</div>\n",
              "      <button class=\"colab-df-convert\" onclick=\"convertToInteractive('df-2371733c-51bd-4f44-b916-9675b7943dc5')\"\n",
              "              title=\"Convert this dataframe to an interactive table.\"\n",
              "              style=\"display:none;\">\n",
              "        \n",
              "  <svg xmlns=\"http://www.w3.org/2000/svg\" height=\"24px\"viewBox=\"0 0 24 24\"\n",
              "       width=\"24px\">\n",
              "    <path d=\"M0 0h24v24H0V0z\" fill=\"none\"/>\n",
              "    <path d=\"M18.56 5.44l.94 2.06.94-2.06 2.06-.94-2.06-.94-.94-2.06-.94 2.06-2.06.94zm-11 1L8.5 8.5l.94-2.06 2.06-.94-2.06-.94L8.5 2.5l-.94 2.06-2.06.94zm10 10l.94 2.06.94-2.06 2.06-.94-2.06-.94-.94-2.06-.94 2.06-2.06.94z\"/><path d=\"M17.41 7.96l-1.37-1.37c-.4-.4-.92-.59-1.43-.59-.52 0-1.04.2-1.43.59L10.3 9.45l-7.72 7.72c-.78.78-.78 2.05 0 2.83L4 21.41c.39.39.9.59 1.41.59.51 0 1.02-.2 1.41-.59l7.78-7.78 2.81-2.81c.8-.78.8-2.07 0-2.86zM5.41 20L4 18.59l7.72-7.72 1.47 1.35L5.41 20z\"/>\n",
              "  </svg>\n",
              "      </button>\n",
              "      \n",
              "  <style>\n",
              "    .colab-df-container {\n",
              "      display:flex;\n",
              "      flex-wrap:wrap;\n",
              "      gap: 12px;\n",
              "    }\n",
              "\n",
              "    .colab-df-convert {\n",
              "      background-color: #E8F0FE;\n",
              "      border: none;\n",
              "      border-radius: 50%;\n",
              "      cursor: pointer;\n",
              "      display: none;\n",
              "      fill: #1967D2;\n",
              "      height: 32px;\n",
              "      padding: 0 0 0 0;\n",
              "      width: 32px;\n",
              "    }\n",
              "\n",
              "    .colab-df-convert:hover {\n",
              "      background-color: #E2EBFA;\n",
              "      box-shadow: 0px 1px 2px rgba(60, 64, 67, 0.3), 0px 1px 3px 1px rgba(60, 64, 67, 0.15);\n",
              "      fill: #174EA6;\n",
              "    }\n",
              "\n",
              "    [theme=dark] .colab-df-convert {\n",
              "      background-color: #3B4455;\n",
              "      fill: #D2E3FC;\n",
              "    }\n",
              "\n",
              "    [theme=dark] .colab-df-convert:hover {\n",
              "      background-color: #434B5C;\n",
              "      box-shadow: 0px 1px 3px 1px rgba(0, 0, 0, 0.15);\n",
              "      filter: drop-shadow(0px 1px 2px rgba(0, 0, 0, 0.3));\n",
              "      fill: #FFFFFF;\n",
              "    }\n",
              "  </style>\n",
              "\n",
              "      <script>\n",
              "        const buttonEl =\n",
              "          document.querySelector('#df-2371733c-51bd-4f44-b916-9675b7943dc5 button.colab-df-convert');\n",
              "        buttonEl.style.display =\n",
              "          google.colab.kernel.accessAllowed ? 'block' : 'none';\n",
              "\n",
              "        async function convertToInteractive(key) {\n",
              "          const element = document.querySelector('#df-2371733c-51bd-4f44-b916-9675b7943dc5');\n",
              "          const dataTable =\n",
              "            await google.colab.kernel.invokeFunction('convertToInteractive',\n",
              "                                                     [key], {});\n",
              "          if (!dataTable) return;\n",
              "\n",
              "          const docLinkHtml = 'Like what you see? Visit the ' +\n",
              "            '<a target=\"_blank\" href=https://colab.research.google.com/notebooks/data_table.ipynb>data table notebook</a>'\n",
              "            + ' to learn more about interactive tables.';\n",
              "          element.innerHTML = '';\n",
              "          dataTable['output_type'] = 'display_data';\n",
              "          await google.colab.output.renderOutput(dataTable, element);\n",
              "          const docLink = document.createElement('div');\n",
              "          docLink.innerHTML = docLinkHtml;\n",
              "          element.appendChild(docLink);\n",
              "        }\n",
              "      </script>\n",
              "    </div>\n",
              "  </div>\n",
              "  "
            ]
          },
          "metadata": {},
          "execution_count": 3
        }
      ],
      "source": [
        "# Import our dependencies\n",
        "from sklearn.model_selection import train_test_split\n",
        "from sklearn.preprocessing import StandardScaler\n",
        "import pandas as pd\n",
        "import tensorflow as tf\n",
        "\n",
        "#  Import and read the charity_data.csv.\n",
        "import pandas as pd \n",
        "application_df = pd.read_csv(url)\n",
        "application_df.head()"
      ]
    },
    {
      "cell_type": "code",
      "execution_count": 4,
      "metadata": {
        "id": "p0g-H9GsMzV3"
      },
      "outputs": [],
      "source": [
        "# Drop the non-beneficial ID columns, 'EIN'\n",
        "#  YOUR CODE GOES HERE\n",
        "application_df = application_df.drop(columns = ['EIN'])"
      ]
    },
    {
      "cell_type": "code",
      "execution_count": 5,
      "metadata": {
        "id": "dRiTpCoVMzV3",
        "outputId": "5b1d99fa-6777-4fc9-c0de-e3a2472dc9db",
        "colab": {
          "base_uri": "https://localhost:8080/"
        }
      },
      "outputs": [
        {
          "output_type": "stream",
          "name": "stdout",
          "text": [
            "NAME 19568\n",
            "APPLICATION_TYPE 17\n",
            "AFFILIATION 6\n",
            "CLASSIFICATION 71\n",
            "USE_CASE 5\n",
            "ORGANIZATION 4\n",
            "STATUS 2\n",
            "INCOME_AMT 9\n",
            "SPECIAL_CONSIDERATIONS 2\n",
            "ASK_AMT 8747\n",
            "IS_SUCCESSFUL 2\n"
          ]
        }
      ],
      "source": [
        "\n",
        "# Determine the number of unique values in each column.\n",
        "#  YOUR CODE GOES HERE\n",
        "for x in application_df.columns:\n",
        "  print(x, len(application_df[x].unique()))"
      ]
    },
    {
      "cell_type": "code",
      "source": [
        "counts1 = application_df[\"NAME\"].value_counts()\n",
        "counts1"
      ],
      "metadata": {
        "id": "AUN5h3jbOEnh",
        "outputId": "8b5986b1-9111-43e9-ccf3-cc30f220b5a5",
        "colab": {
          "base_uri": "https://localhost:8080/"
        }
      },
      "execution_count": 7,
      "outputs": [
        {
          "output_type": "execute_result",
          "data": {
            "text/plain": [
              "PARENT BOOSTER USA INC                                                  1260\n",
              "TOPS CLUB INC                                                            765\n",
              "UNITED STATES BOWLING CONGRESS INC                                       700\n",
              "WASHINGTON STATE UNIVERSITY                                              492\n",
              "AMATEUR ATHLETIC UNION OF THE UNITED STATES INC                          408\n",
              "                                                                        ... \n",
              "ST LOUIS SLAM WOMENS FOOTBALL                                              1\n",
              "AIESEC ALUMNI IBEROAMERICA CORP                                            1\n",
              "WEALLBLEEDRED ORG INC                                                      1\n",
              "AMERICAN SOCIETY FOR STANDARDS IN MEDIUMSHIP & PSYCHICAL INVESTIGATI       1\n",
              "WATERHOUSE CHARITABLE TR                                                   1\n",
              "Name: NAME, Length: 19568, dtype: int64"
            ]
          },
          "metadata": {},
          "execution_count": 7
        }
      ]
    },
    {
      "cell_type": "code",
      "source": [
        "names_replace = list(counts1[counts1<5].index)"
      ],
      "metadata": {
        "id": "fknzEPRBWBw1"
      },
      "execution_count": 9,
      "outputs": []
    },
    {
      "cell_type": "code",
      "source": [
        "for name in names_replace:\n",
        "  application_df['NAME'] = application_df['NAME'].replace(name, 'Other')\n",
        "\n",
        "application_df['NAME'].value_counts()"
      ],
      "metadata": {
        "colab": {
          "base_uri": "https://localhost:8080/"
        },
        "id": "z48XzSGEWBoM",
        "outputId": "535b74c5-69bc-4489-ec4b-bc8b8470c194"
      },
      "execution_count": 10,
      "outputs": [
        {
          "output_type": "execute_result",
          "data": {
            "text/plain": [
              "Other                                                                19803\n",
              "PARENT BOOSTER USA INC                                                1260\n",
              "TOPS CLUB INC                                                          765\n",
              "UNITED STATES BOWLING CONGRESS INC                                     700\n",
              "WASHINGTON STATE UNIVERSITY                                            492\n",
              "                                                                     ...  \n",
              "GUILDS OF THE SANTA FE OPERA INC                                         5\n",
              "FAMILY MOTOR COACH ASSOCIATION                                           5\n",
              "JAMESTOWN SOCIETY                                                        5\n",
              "MOST WORSHIPFUL PRINCE HALL GRAND LODGE OF FREE & ACCEPTED MASONS        5\n",
              "PTA HAWAII CONGRESS                                                      5\n",
              "Name: NAME, Length: 403, dtype: int64"
            ]
          },
          "metadata": {},
          "execution_count": 10
        }
      ]
    },
    {
      "cell_type": "code",
      "execution_count": 11,
      "metadata": {
        "id": "HAvjni2VMzV3",
        "outputId": "d0105f00-ae63-4230-a544-005ddf343135",
        "colab": {
          "base_uri": "https://localhost:8080/"
        }
      },
      "outputs": [
        {
          "output_type": "execute_result",
          "data": {
            "text/plain": [
              "T3     27037\n",
              "T4      1542\n",
              "T6      1216\n",
              "T5      1173\n",
              "T19     1065\n",
              "T8       737\n",
              "T7       725\n",
              "T10      528\n",
              "T9       156\n",
              "T13       66\n",
              "T12       27\n",
              "T2        16\n",
              "T25        3\n",
              "T14        3\n",
              "T29        2\n",
              "T15        2\n",
              "T17        1\n",
              "Name: APPLICATION_TYPE, dtype: int64"
            ]
          },
          "metadata": {},
          "execution_count": 11
        }
      ],
      "source": [
        "# Look at APPLICATION_TYPE value counts for binning\n",
        "#  YOUR CODE GOES HERE\n",
        "counts = application_df['APPLICATION_TYPE'].value_counts()\n",
        "counts"
      ]
    },
    {
      "cell_type": "code",
      "execution_count": 12,
      "metadata": {
        "id": "B3kdUWNtMzV3",
        "outputId": "c3eac095-3964-4bc1-8abc-00d35760e6f4",
        "colab": {
          "base_uri": "https://localhost:8080/"
        }
      },
      "outputs": [
        {
          "output_type": "execute_result",
          "data": {
            "text/plain": [
              "['T9', 'T13', 'T12', 'T2', 'T25', 'T14', 'T29', 'T15', 'T17']"
            ]
          },
          "metadata": {},
          "execution_count": 12
        }
      ],
      "source": [
        "# Choose a cutoff value and create a list of application types to be replaced\n",
        "# use the variable name `application_types_to_replace`\n",
        "#  YOUR CODE GOES HERE\n",
        "application_types_to_replace = list(counts[counts<500].index)\n",
        "application_types_to_replace"
      ]
    },
    {
      "cell_type": "code",
      "source": [
        "\n",
        "# Replace in dataframe\n",
        "for app in application_types_to_replace:\n",
        "    application_df['APPLICATION_TYPE'] = application_df['APPLICATION_TYPE'].replace(app,\"Other\")\n",
        "\n",
        "# Check to make sure binning was successful\n",
        "application_df['APPLICATION_TYPE'].value_counts()"
      ],
      "metadata": {
        "id": "Uz93gtpnOfjS",
        "outputId": "2dcd8c4a-c194-4af6-ad84-255b78031755",
        "colab": {
          "base_uri": "https://localhost:8080/"
        }
      },
      "execution_count": 13,
      "outputs": [
        {
          "output_type": "execute_result",
          "data": {
            "text/plain": [
              "T3       27037\n",
              "T4        1542\n",
              "T6        1216\n",
              "T5        1173\n",
              "T19       1065\n",
              "T8         737\n",
              "T7         725\n",
              "T10        528\n",
              "Other      276\n",
              "Name: APPLICATION_TYPE, dtype: int64"
            ]
          },
          "metadata": {},
          "execution_count": 13
        }
      ]
    },
    {
      "cell_type": "code",
      "execution_count": 14,
      "metadata": {
        "id": "k7CVsJhgMzV4"
      },
      "outputs": [],
      "source": [
        "# Look at CLASSIFICATION value counts for binning\n",
        "#  YOUR CODE GOES HERE\n",
        "countbinning = application_df['CLASSIFICATION'].value_counts()"
      ]
    },
    {
      "cell_type": "code",
      "execution_count": 15,
      "metadata": {
        "id": "BtnQnSh6MzV4",
        "outputId": "ef4abf31-809b-4d64-9014-edd57619a0cb",
        "colab": {
          "base_uri": "https://localhost:8080/"
        }
      },
      "outputs": [
        {
          "output_type": "execute_result",
          "data": {
            "text/plain": [
              "C1000    17326\n",
              "C2000     6074\n",
              "C1200     4837\n",
              "C3000     1918\n",
              "C2100     1883\n",
              "C7000      777\n",
              "C1700      287\n",
              "C4000      194\n",
              "C5000      116\n",
              "C1270      114\n",
              "C2700      104\n",
              "C2800       95\n",
              "C7100       75\n",
              "C1300       58\n",
              "C1280       50\n",
              "C1230       36\n",
              "C1400       34\n",
              "C7200       32\n",
              "C2300       32\n",
              "C1240       30\n",
              "C8000       20\n",
              "C7120       18\n",
              "C1500       16\n",
              "C1800       15\n",
              "C6000       15\n",
              "C1250       14\n",
              "C8200       11\n",
              "C1238       10\n",
              "C1278       10\n",
              "C1235        9\n",
              "C1237        9\n",
              "C7210        7\n",
              "C2400        6\n",
              "C1720        6\n",
              "C4100        6\n",
              "C1257        5\n",
              "C1600        5\n",
              "C1260        3\n",
              "C2710        3\n",
              "C0           3\n",
              "C3200        2\n",
              "C1234        2\n",
              "C1246        2\n",
              "C1267        2\n",
              "C1256        2\n",
              "Name: CLASSIFICATION, dtype: int64"
            ]
          },
          "metadata": {},
          "execution_count": 15
        }
      ],
      "source": [
        "# You may find it helpful to look at CLASSIFICATION value counts >1\n",
        "#  YOUR CODE GOES HERE\n",
        "countclassification = countbinning[countbinning>1]\n",
        "countclassification"
      ]
    },
    {
      "cell_type": "code",
      "execution_count": 16,
      "metadata": {
        "id": "l0NCZlvYMzV4"
      },
      "outputs": [],
      "source": [
        "# Choose a cutoff value and create a list of classifications to be replaced\n",
        "# use the variable name `classifications_to_replace`\n",
        "#  YOUR CODE GOES HERE\n",
        "classifications_to_replace = list(countbinning[countbinning<100].index)"
      ]
    },
    {
      "cell_type": "code",
      "source": [
        "\n",
        "# Replace in dataframe\n",
        "for cls in classifications_to_replace:\n",
        "    application_df['CLASSIFICATION'] = application_df['CLASSIFICATION'].replace(cls,\"Other\")\n",
        "    \n",
        "# Check to make sure binning was successful\n",
        "application_df['CLASSIFICATION'].value_counts()"
      ],
      "metadata": {
        "id": "tSjJzPXFPJGK",
        "outputId": "f5e71858-543b-45f3-9892-2aca6c7739f9",
        "colab": {
          "base_uri": "https://localhost:8080/"
        }
      },
      "execution_count": 17,
      "outputs": [
        {
          "output_type": "execute_result",
          "data": {
            "text/plain": [
              "C1000    17326\n",
              "C2000     6074\n",
              "C1200     4837\n",
              "C3000     1918\n",
              "C2100     1883\n",
              "C7000      777\n",
              "Other      669\n",
              "C1700      287\n",
              "C4000      194\n",
              "C5000      116\n",
              "C1270      114\n",
              "C2700      104\n",
              "Name: CLASSIFICATION, dtype: int64"
            ]
          },
          "metadata": {},
          "execution_count": 17
        }
      ]
    },
    {
      "cell_type": "code",
      "execution_count": 18,
      "metadata": {
        "id": "3FaZkvkTMzV4",
        "outputId": "2e5bc1d0-9443-4167-8450-1dd68d772fb9",
        "colab": {
          "base_uri": "https://localhost:8080/",
          "height": 386
        }
      },
      "outputs": [
        {
          "output_type": "execute_result",
          "data": {
            "text/plain": [
              "   STATUS  ASK_AMT  IS_SUCCESSFUL  NAME_AACE INTERNATIONAL  \\\n",
              "0       1     5000              1                      0.0   \n",
              "1       1   108590              1                      0.0   \n",
              "2       1     5000              0                      0.0   \n",
              "3       1     6692              1                      0.0   \n",
              "4       1   142590              1                      0.0   \n",
              "\n",
              "   NAME_ACE MENTOR PROGRAM OF AMERICA INC  NAME_ACTS MINISTRY  \\\n",
              "0                                     0.0                 0.0   \n",
              "1                                     0.0                 0.0   \n",
              "2                                     0.0                 0.0   \n",
              "3                                     0.0                 0.0   \n",
              "4                                     0.0                 0.0   \n",
              "\n",
              "   NAME_ACTS MISSIONS  \\\n",
              "0                 0.0   \n",
              "1                 0.0   \n",
              "2                 0.0   \n",
              "3                 0.0   \n",
              "4                 0.0   \n",
              "\n",
              "   NAME_AFRICAN-AMERICAN POSTAL LEAGUE UNITED FOR SUCCESS A-PLUS  \\\n",
              "0                                                0.0               \n",
              "1                                                0.0               \n",
              "2                                                0.0               \n",
              "3                                                0.0               \n",
              "4                                                0.0               \n",
              "\n",
              "   NAME_AIR FORCE ASSOCIATION  NAME_ALABAMA FEDERATION OF WOMENS CLUBS  ...  \\\n",
              "0                         0.0                                      0.0  ...   \n",
              "1                         0.0                                      0.0  ...   \n",
              "2                         0.0                                      0.0  ...   \n",
              "3                         0.0                                      0.0  ...   \n",
              "4                         0.0                                      0.0  ...   \n",
              "\n",
              "   INCOME_AMT_1-9999  INCOME_AMT_10000-24999  INCOME_AMT_100000-499999  \\\n",
              "0                0.0                     0.0                       0.0   \n",
              "1                1.0                     0.0                       0.0   \n",
              "2                0.0                     0.0                       0.0   \n",
              "3                0.0                     1.0                       0.0   \n",
              "4                0.0                     0.0                       1.0   \n",
              "\n",
              "   INCOME_AMT_10M-50M  INCOME_AMT_1M-5M  INCOME_AMT_25000-99999  \\\n",
              "0                 0.0               0.0                     0.0   \n",
              "1                 0.0               0.0                     0.0   \n",
              "2                 0.0               0.0                     0.0   \n",
              "3                 0.0               0.0                     0.0   \n",
              "4                 0.0               0.0                     0.0   \n",
              "\n",
              "   INCOME_AMT_50M+  INCOME_AMT_5M-10M  SPECIAL_CONSIDERATIONS_N  \\\n",
              "0              0.0                0.0                       1.0   \n",
              "1              0.0                0.0                       1.0   \n",
              "2              0.0                0.0                       1.0   \n",
              "3              0.0                0.0                       1.0   \n",
              "4              0.0                0.0                       1.0   \n",
              "\n",
              "   SPECIAL_CONSIDERATIONS_Y  \n",
              "0                       0.0  \n",
              "1                       0.0  \n",
              "2                       0.0  \n",
              "3                       0.0  \n",
              "4                       0.0  \n",
              "\n",
              "[5 rows x 453 columns]"
            ],
            "text/html": [
              "\n",
              "  <div id=\"df-831c0393-7ad7-45c3-be16-1c6d3348c057\">\n",
              "    <div class=\"colab-df-container\">\n",
              "      <div>\n",
              "<style scoped>\n",
              "    .dataframe tbody tr th:only-of-type {\n",
              "        vertical-align: middle;\n",
              "    }\n",
              "\n",
              "    .dataframe tbody tr th {\n",
              "        vertical-align: top;\n",
              "    }\n",
              "\n",
              "    .dataframe thead th {\n",
              "        text-align: right;\n",
              "    }\n",
              "</style>\n",
              "<table border=\"1\" class=\"dataframe\">\n",
              "  <thead>\n",
              "    <tr style=\"text-align: right;\">\n",
              "      <th></th>\n",
              "      <th>STATUS</th>\n",
              "      <th>ASK_AMT</th>\n",
              "      <th>IS_SUCCESSFUL</th>\n",
              "      <th>NAME_AACE INTERNATIONAL</th>\n",
              "      <th>NAME_ACE MENTOR PROGRAM OF AMERICA INC</th>\n",
              "      <th>NAME_ACTS MINISTRY</th>\n",
              "      <th>NAME_ACTS MISSIONS</th>\n",
              "      <th>NAME_AFRICAN-AMERICAN POSTAL LEAGUE UNITED FOR SUCCESS A-PLUS</th>\n",
              "      <th>NAME_AIR FORCE ASSOCIATION</th>\n",
              "      <th>NAME_ALABAMA FEDERATION OF WOMENS CLUBS</th>\n",
              "      <th>...</th>\n",
              "      <th>INCOME_AMT_1-9999</th>\n",
              "      <th>INCOME_AMT_10000-24999</th>\n",
              "      <th>INCOME_AMT_100000-499999</th>\n",
              "      <th>INCOME_AMT_10M-50M</th>\n",
              "      <th>INCOME_AMT_1M-5M</th>\n",
              "      <th>INCOME_AMT_25000-99999</th>\n",
              "      <th>INCOME_AMT_50M+</th>\n",
              "      <th>INCOME_AMT_5M-10M</th>\n",
              "      <th>SPECIAL_CONSIDERATIONS_N</th>\n",
              "      <th>SPECIAL_CONSIDERATIONS_Y</th>\n",
              "    </tr>\n",
              "  </thead>\n",
              "  <tbody>\n",
              "    <tr>\n",
              "      <th>0</th>\n",
              "      <td>1</td>\n",
              "      <td>5000</td>\n",
              "      <td>1</td>\n",
              "      <td>0.0</td>\n",
              "      <td>0.0</td>\n",
              "      <td>0.0</td>\n",
              "      <td>0.0</td>\n",
              "      <td>0.0</td>\n",
              "      <td>0.0</td>\n",
              "      <td>0.0</td>\n",
              "      <td>...</td>\n",
              "      <td>0.0</td>\n",
              "      <td>0.0</td>\n",
              "      <td>0.0</td>\n",
              "      <td>0.0</td>\n",
              "      <td>0.0</td>\n",
              "      <td>0.0</td>\n",
              "      <td>0.0</td>\n",
              "      <td>0.0</td>\n",
              "      <td>1.0</td>\n",
              "      <td>0.0</td>\n",
              "    </tr>\n",
              "    <tr>\n",
              "      <th>1</th>\n",
              "      <td>1</td>\n",
              "      <td>108590</td>\n",
              "      <td>1</td>\n",
              "      <td>0.0</td>\n",
              "      <td>0.0</td>\n",
              "      <td>0.0</td>\n",
              "      <td>0.0</td>\n",
              "      <td>0.0</td>\n",
              "      <td>0.0</td>\n",
              "      <td>0.0</td>\n",
              "      <td>...</td>\n",
              "      <td>1.0</td>\n",
              "      <td>0.0</td>\n",
              "      <td>0.0</td>\n",
              "      <td>0.0</td>\n",
              "      <td>0.0</td>\n",
              "      <td>0.0</td>\n",
              "      <td>0.0</td>\n",
              "      <td>0.0</td>\n",
              "      <td>1.0</td>\n",
              "      <td>0.0</td>\n",
              "    </tr>\n",
              "    <tr>\n",
              "      <th>2</th>\n",
              "      <td>1</td>\n",
              "      <td>5000</td>\n",
              "      <td>0</td>\n",
              "      <td>0.0</td>\n",
              "      <td>0.0</td>\n",
              "      <td>0.0</td>\n",
              "      <td>0.0</td>\n",
              "      <td>0.0</td>\n",
              "      <td>0.0</td>\n",
              "      <td>0.0</td>\n",
              "      <td>...</td>\n",
              "      <td>0.0</td>\n",
              "      <td>0.0</td>\n",
              "      <td>0.0</td>\n",
              "      <td>0.0</td>\n",
              "      <td>0.0</td>\n",
              "      <td>0.0</td>\n",
              "      <td>0.0</td>\n",
              "      <td>0.0</td>\n",
              "      <td>1.0</td>\n",
              "      <td>0.0</td>\n",
              "    </tr>\n",
              "    <tr>\n",
              "      <th>3</th>\n",
              "      <td>1</td>\n",
              "      <td>6692</td>\n",
              "      <td>1</td>\n",
              "      <td>0.0</td>\n",
              "      <td>0.0</td>\n",
              "      <td>0.0</td>\n",
              "      <td>0.0</td>\n",
              "      <td>0.0</td>\n",
              "      <td>0.0</td>\n",
              "      <td>0.0</td>\n",
              "      <td>...</td>\n",
              "      <td>0.0</td>\n",
              "      <td>1.0</td>\n",
              "      <td>0.0</td>\n",
              "      <td>0.0</td>\n",
              "      <td>0.0</td>\n",
              "      <td>0.0</td>\n",
              "      <td>0.0</td>\n",
              "      <td>0.0</td>\n",
              "      <td>1.0</td>\n",
              "      <td>0.0</td>\n",
              "    </tr>\n",
              "    <tr>\n",
              "      <th>4</th>\n",
              "      <td>1</td>\n",
              "      <td>142590</td>\n",
              "      <td>1</td>\n",
              "      <td>0.0</td>\n",
              "      <td>0.0</td>\n",
              "      <td>0.0</td>\n",
              "      <td>0.0</td>\n",
              "      <td>0.0</td>\n",
              "      <td>0.0</td>\n",
              "      <td>0.0</td>\n",
              "      <td>...</td>\n",
              "      <td>0.0</td>\n",
              "      <td>0.0</td>\n",
              "      <td>1.0</td>\n",
              "      <td>0.0</td>\n",
              "      <td>0.0</td>\n",
              "      <td>0.0</td>\n",
              "      <td>0.0</td>\n",
              "      <td>0.0</td>\n",
              "      <td>1.0</td>\n",
              "      <td>0.0</td>\n",
              "    </tr>\n",
              "  </tbody>\n",
              "</table>\n",
              "<p>5 rows × 453 columns</p>\n",
              "</div>\n",
              "      <button class=\"colab-df-convert\" onclick=\"convertToInteractive('df-831c0393-7ad7-45c3-be16-1c6d3348c057')\"\n",
              "              title=\"Convert this dataframe to an interactive table.\"\n",
              "              style=\"display:none;\">\n",
              "        \n",
              "  <svg xmlns=\"http://www.w3.org/2000/svg\" height=\"24px\"viewBox=\"0 0 24 24\"\n",
              "       width=\"24px\">\n",
              "    <path d=\"M0 0h24v24H0V0z\" fill=\"none\"/>\n",
              "    <path d=\"M18.56 5.44l.94 2.06.94-2.06 2.06-.94-2.06-.94-.94-2.06-.94 2.06-2.06.94zm-11 1L8.5 8.5l.94-2.06 2.06-.94-2.06-.94L8.5 2.5l-.94 2.06-2.06.94zm10 10l.94 2.06.94-2.06 2.06-.94-2.06-.94-.94-2.06-.94 2.06-2.06.94z\"/><path d=\"M17.41 7.96l-1.37-1.37c-.4-.4-.92-.59-1.43-.59-.52 0-1.04.2-1.43.59L10.3 9.45l-7.72 7.72c-.78.78-.78 2.05 0 2.83L4 21.41c.39.39.9.59 1.41.59.51 0 1.02-.2 1.41-.59l7.78-7.78 2.81-2.81c.8-.78.8-2.07 0-2.86zM5.41 20L4 18.59l7.72-7.72 1.47 1.35L5.41 20z\"/>\n",
              "  </svg>\n",
              "      </button>\n",
              "      \n",
              "  <style>\n",
              "    .colab-df-container {\n",
              "      display:flex;\n",
              "      flex-wrap:wrap;\n",
              "      gap: 12px;\n",
              "    }\n",
              "\n",
              "    .colab-df-convert {\n",
              "      background-color: #E8F0FE;\n",
              "      border: none;\n",
              "      border-radius: 50%;\n",
              "      cursor: pointer;\n",
              "      display: none;\n",
              "      fill: #1967D2;\n",
              "      height: 32px;\n",
              "      padding: 0 0 0 0;\n",
              "      width: 32px;\n",
              "    }\n",
              "\n",
              "    .colab-df-convert:hover {\n",
              "      background-color: #E2EBFA;\n",
              "      box-shadow: 0px 1px 2px rgba(60, 64, 67, 0.3), 0px 1px 3px 1px rgba(60, 64, 67, 0.15);\n",
              "      fill: #174EA6;\n",
              "    }\n",
              "\n",
              "    [theme=dark] .colab-df-convert {\n",
              "      background-color: #3B4455;\n",
              "      fill: #D2E3FC;\n",
              "    }\n",
              "\n",
              "    [theme=dark] .colab-df-convert:hover {\n",
              "      background-color: #434B5C;\n",
              "      box-shadow: 0px 1px 3px 1px rgba(0, 0, 0, 0.15);\n",
              "      filter: drop-shadow(0px 1px 2px rgba(0, 0, 0, 0.3));\n",
              "      fill: #FFFFFF;\n",
              "    }\n",
              "  </style>\n",
              "\n",
              "      <script>\n",
              "        const buttonEl =\n",
              "          document.querySelector('#df-831c0393-7ad7-45c3-be16-1c6d3348c057 button.colab-df-convert');\n",
              "        buttonEl.style.display =\n",
              "          google.colab.kernel.accessAllowed ? 'block' : 'none';\n",
              "\n",
              "        async function convertToInteractive(key) {\n",
              "          const element = document.querySelector('#df-831c0393-7ad7-45c3-be16-1c6d3348c057');\n",
              "          const dataTable =\n",
              "            await google.colab.kernel.invokeFunction('convertToInteractive',\n",
              "                                                     [key], {});\n",
              "          if (!dataTable) return;\n",
              "\n",
              "          const docLinkHtml = 'Like what you see? Visit the ' +\n",
              "            '<a target=\"_blank\" href=https://colab.research.google.com/notebooks/data_table.ipynb>data table notebook</a>'\n",
              "            + ' to learn more about interactive tables.';\n",
              "          element.innerHTML = '';\n",
              "          dataTable['output_type'] = 'display_data';\n",
              "          await google.colab.output.renderOutput(dataTable, element);\n",
              "          const docLink = document.createElement('div');\n",
              "          docLink.innerHTML = docLinkHtml;\n",
              "          element.appendChild(docLink);\n",
              "        }\n",
              "      </script>\n",
              "    </div>\n",
              "  </div>\n",
              "  "
            ]
          },
          "metadata": {},
          "execution_count": 18
        }
      ],
      "source": [
        "# Convert categorical data to numeric with `pd.get_dummies`\n",
        "#  YOUR CODE GOES HERE\n",
        "application_df = pd.get_dummies(application_df, dtype=float)\n",
        "application_df.head()"
      ]
    },
    {
      "cell_type": "code",
      "execution_count": 19,
      "metadata": {
        "id": "J25m4L0GMzV4"
      },
      "outputs": [],
      "source": [
        "# Split our preprocessed data into our features and target arrays\n",
        "#  YOUR CODE GOES HERE\n",
        "y = application_df['IS_SUCCESSFUL'].values"
      ]
    },
    {
      "cell_type": "code",
      "source": [
        "x = application_df.drop('IS_SUCCESSFUL', axis=1).values"
      ],
      "metadata": {
        "id": "_Ao2bNa9QBL8"
      },
      "execution_count": 20,
      "outputs": []
    },
    {
      "cell_type": "code",
      "source": [
        "# Split the preprocessed data into a training and testing dataset\n",
        "#  YOUR CODE GOES HERE\n",
        "x_train, x_test, y_train, y_test = train_test_split(x,y, random_state=42)"
      ],
      "metadata": {
        "id": "rN3VOaW1Ppvb"
      },
      "execution_count": 21,
      "outputs": []
    },
    {
      "cell_type": "code",
      "execution_count": 22,
      "metadata": {
        "id": "6hK9oacyMzV4"
      },
      "outputs": [],
      "source": [
        "# Create a StandardScaler instances\n",
        "scaler = StandardScaler()\n",
        "\n",
        "# Fit the StandardScaler\n",
        "X_scaler = scaler.fit(x_train)\n",
        "\n",
        "# Scale the data\n",
        "X_train_scaled = X_scaler.transform(x_train)\n",
        "X_test_scaled = X_scaler.transform(x_test)"
      ]
    },
    {
      "cell_type": "markdown",
      "metadata": {
        "id": "a1dE90URMzV4"
      },
      "source": [
        "## Compile, Train and Evaluate the Model"
      ]
    },
    {
      "cell_type": "code",
      "execution_count": 23,
      "metadata": {
        "id": "1Ypt99l3MzV4",
        "outputId": "932d69ac-ac25-4130-828b-6a39c3c0ae91",
        "colab": {
          "base_uri": "https://localhost:8080/"
        }
      },
      "outputs": [
        {
          "output_type": "stream",
          "name": "stdout",
          "text": [
            "Model: \"sequential\"\n",
            "_________________________________________________________________\n",
            " Layer (type)                Output Shape              Param #   \n",
            "=================================================================\n",
            " dense (Dense)               (None, 7)                 3171      \n",
            "                                                                 \n",
            " dense_1 (Dense)             (None, 14)                112       \n",
            "                                                                 \n",
            " dense_2 (Dense)             (None, 1)                 15        \n",
            "                                                                 \n",
            "=================================================================\n",
            "Total params: 3,298\n",
            "Trainable params: 3,298\n",
            "Non-trainable params: 0\n",
            "_________________________________________________________________\n"
          ]
        }
      ],
      "source": [
        "# Define the model - deep neural net, i.e., the number of input features and hidden nodes for each layer.\n",
        "#  YOUR CODE GOES HERE\n",
        "number_input_features = len(X_train_scaled[0])\n",
        "hidden_nodes_layer1=7\n",
        "hidden_nodes_layer2=14\n",
        "hidden_nodes_layer3=21\n",
        "nn = tf.keras.models.Sequential()\n",
        "\n",
        "# First hidden layer\n",
        "#  YOUR CODE GOES HERE\n",
        "nn.add(tf.keras.layers.Dense(units=hidden_nodes_layer1, input_dim=number_input_features, activation='relu'))\n",
        "# Second hidden layer\n",
        "#  YOUR CODE GOES HERE\n",
        "nn.add(tf.keras.layers.Dense(units=hidden_nodes_layer2, activation='relu'))\n",
        "# Output layer\n",
        "#  YOUR CODE GOES HERE\n",
        "nn.add(tf.keras.layers.Dense(units=1, activation='sigmoid'))\n",
        "\n",
        "# Check the structure of the model\n",
        "nn.summary()"
      ]
    },
    {
      "cell_type": "code",
      "execution_count": 24,
      "metadata": {
        "id": "Pl7Z9qjlMzV4"
      },
      "outputs": [],
      "source": [
        "# Compile the model\n",
        "#  YOUR CODE GOES HERE\n",
        "nn.compile(loss = 'binary_crossentropy', optimizer = 'adam', metrics=['accuracy'])"
      ]
    },
    {
      "cell_type": "code",
      "execution_count": 25,
      "metadata": {
        "id": "e7ZkF-IRMzV5",
        "outputId": "0a9f697c-a17b-4765-de3f-31f482163e96",
        "colab": {
          "base_uri": "https://localhost:8080/"
        }
      },
      "outputs": [
        {
          "output_type": "stream",
          "name": "stdout",
          "text": [
            "Epoch 1/100\n",
            "684/684 [==============================] - 4s 4ms/step - loss: 0.5484 - accuracy: 0.7269 - val_loss: 0.4566 - val_accuracy: 0.7917\n",
            "Epoch 2/100\n",
            "684/684 [==============================] - 2s 3ms/step - loss: 0.4477 - accuracy: 0.7861 - val_loss: 0.4370 - val_accuracy: 0.7979\n",
            "Epoch 3/100\n",
            "684/684 [==============================] - 2s 3ms/step - loss: 0.4350 - accuracy: 0.7902 - val_loss: 0.4328 - val_accuracy: 0.7971\n",
            "Epoch 4/100\n",
            "684/684 [==============================] - 2s 4ms/step - loss: 0.4303 - accuracy: 0.7914 - val_loss: 0.4326 - val_accuracy: 0.7979\n",
            "Epoch 5/100\n",
            "684/684 [==============================] - 2s 3ms/step - loss: 0.4282 - accuracy: 0.7926 - val_loss: 0.4352 - val_accuracy: 0.7966\n",
            "Epoch 6/100\n",
            "684/684 [==============================] - 3s 4ms/step - loss: 0.4271 - accuracy: 0.7925 - val_loss: 0.4336 - val_accuracy: 0.7958\n",
            "Epoch 7/100\n",
            "684/684 [==============================] - 2s 4ms/step - loss: 0.4263 - accuracy: 0.7928 - val_loss: 0.4354 - val_accuracy: 0.7958\n",
            "Epoch 8/100\n",
            "684/684 [==============================] - 2s 3ms/step - loss: 0.4254 - accuracy: 0.7937 - val_loss: 0.4348 - val_accuracy: 0.7963\n",
            "Epoch 9/100\n",
            "684/684 [==============================] - 3s 5ms/step - loss: 0.4237 - accuracy: 0.7943 - val_loss: 0.4334 - val_accuracy: 0.7989\n",
            "Epoch 10/100\n",
            "684/684 [==============================] - 3s 4ms/step - loss: 0.4229 - accuracy: 0.7955 - val_loss: 0.4339 - val_accuracy: 0.8018\n",
            "Epoch 11/100\n",
            "684/684 [==============================] - 3s 5ms/step - loss: 0.4226 - accuracy: 0.7964 - val_loss: 0.4346 - val_accuracy: 0.7963\n",
            "Epoch 12/100\n",
            "684/684 [==============================] - 3s 4ms/step - loss: 0.4219 - accuracy: 0.7957 - val_loss: 0.4344 - val_accuracy: 0.7976\n",
            "Epoch 13/100\n",
            "684/684 [==============================] - 2s 3ms/step - loss: 0.4219 - accuracy: 0.7970 - val_loss: 0.4332 - val_accuracy: 0.7987\n",
            "Epoch 14/100\n",
            "684/684 [==============================] - 2s 3ms/step - loss: 0.4215 - accuracy: 0.7974 - val_loss: 0.4352 - val_accuracy: 0.7989\n",
            "Epoch 15/100\n",
            "684/684 [==============================] - 2s 4ms/step - loss: 0.4206 - accuracy: 0.7977 - val_loss: 0.4349 - val_accuracy: 0.8005\n",
            "Epoch 16/100\n",
            "684/684 [==============================] - 2s 3ms/step - loss: 0.4204 - accuracy: 0.7979 - val_loss: 0.4348 - val_accuracy: 0.7987\n",
            "Epoch 17/100\n",
            "684/684 [==============================] - 2s 3ms/step - loss: 0.4200 - accuracy: 0.7966 - val_loss: 0.4345 - val_accuracy: 0.7994\n",
            "Epoch 18/100\n",
            "684/684 [==============================] - 2s 3ms/step - loss: 0.4198 - accuracy: 0.7979 - val_loss: 0.4367 - val_accuracy: 0.7979\n",
            "Epoch 19/100\n",
            "684/684 [==============================] - 2s 3ms/step - loss: 0.4195 - accuracy: 0.7985 - val_loss: 0.4365 - val_accuracy: 0.8002\n",
            "Epoch 20/100\n",
            "684/684 [==============================] - 2s 3ms/step - loss: 0.4195 - accuracy: 0.7984 - val_loss: 0.4350 - val_accuracy: 0.7979\n",
            "Epoch 21/100\n",
            "684/684 [==============================] - 2s 3ms/step - loss: 0.4188 - accuracy: 0.7982 - val_loss: 0.4379 - val_accuracy: 0.7989\n",
            "Epoch 22/100\n",
            "684/684 [==============================] - 2s 3ms/step - loss: 0.4189 - accuracy: 0.7990 - val_loss: 0.4372 - val_accuracy: 0.7987\n",
            "Epoch 23/100\n",
            "684/684 [==============================] - 3s 4ms/step - loss: 0.4184 - accuracy: 0.7994 - val_loss: 0.4352 - val_accuracy: 0.7976\n",
            "Epoch 24/100\n",
            "684/684 [==============================] - 2s 4ms/step - loss: 0.4180 - accuracy: 0.7985 - val_loss: 0.4357 - val_accuracy: 0.7987\n",
            "Epoch 25/100\n",
            "684/684 [==============================] - 3s 4ms/step - loss: 0.4183 - accuracy: 0.7995 - val_loss: 0.4369 - val_accuracy: 0.7981\n",
            "Epoch 26/100\n",
            "684/684 [==============================] - 2s 4ms/step - loss: 0.4177 - accuracy: 0.7998 - val_loss: 0.4379 - val_accuracy: 0.7997\n",
            "Epoch 27/100\n",
            "684/684 [==============================] - 2s 3ms/step - loss: 0.4175 - accuracy: 0.7979 - val_loss: 0.4354 - val_accuracy: 0.8018\n",
            "Epoch 28/100\n",
            "684/684 [==============================] - 2s 4ms/step - loss: 0.4175 - accuracy: 0.7993 - val_loss: 0.4375 - val_accuracy: 0.7989\n",
            "Epoch 29/100\n",
            "684/684 [==============================] - 2s 3ms/step - loss: 0.4170 - accuracy: 0.7990 - val_loss: 0.4400 - val_accuracy: 0.7968\n",
            "Epoch 30/100\n",
            "684/684 [==============================] - 4s 5ms/step - loss: 0.4169 - accuracy: 0.7999 - val_loss: 0.4389 - val_accuracy: 0.7999\n",
            "Epoch 31/100\n",
            "684/684 [==============================] - 2s 3ms/step - loss: 0.4168 - accuracy: 0.7997 - val_loss: 0.4372 - val_accuracy: 0.8005\n",
            "Epoch 32/100\n",
            "684/684 [==============================] - 2s 3ms/step - loss: 0.4170 - accuracy: 0.8000 - val_loss: 0.4375 - val_accuracy: 0.7987\n",
            "Epoch 33/100\n",
            "684/684 [==============================] - 2s 3ms/step - loss: 0.4168 - accuracy: 0.7989 - val_loss: 0.4390 - val_accuracy: 0.7989\n",
            "Epoch 34/100\n",
            "684/684 [==============================] - 2s 3ms/step - loss: 0.4164 - accuracy: 0.7997 - val_loss: 0.4392 - val_accuracy: 0.7994\n",
            "Epoch 35/100\n",
            "684/684 [==============================] - 2s 3ms/step - loss: 0.4161 - accuracy: 0.7995 - val_loss: 0.4373 - val_accuracy: 0.7999\n",
            "Epoch 36/100\n",
            "684/684 [==============================] - 3s 5ms/step - loss: 0.4158 - accuracy: 0.7993 - val_loss: 0.4367 - val_accuracy: 0.7974\n",
            "Epoch 37/100\n",
            "684/684 [==============================] - 3s 4ms/step - loss: 0.4149 - accuracy: 0.7998 - val_loss: 0.4380 - val_accuracy: 0.7999\n",
            "Epoch 38/100\n",
            "684/684 [==============================] - 2s 3ms/step - loss: 0.4142 - accuracy: 0.7993 - val_loss: 0.4385 - val_accuracy: 0.7992\n",
            "Epoch 39/100\n",
            "684/684 [==============================] - 2s 3ms/step - loss: 0.4140 - accuracy: 0.7997 - val_loss: 0.4358 - val_accuracy: 0.8005\n",
            "Epoch 40/100\n",
            "684/684 [==============================] - 2s 3ms/step - loss: 0.4144 - accuracy: 0.7996 - val_loss: 0.4368 - val_accuracy: 0.8007\n",
            "Epoch 41/100\n",
            "684/684 [==============================] - 2s 3ms/step - loss: 0.4138 - accuracy: 0.8007 - val_loss: 0.4387 - val_accuracy: 0.7992\n",
            "Epoch 42/100\n",
            "684/684 [==============================] - 2s 3ms/step - loss: 0.4135 - accuracy: 0.7993 - val_loss: 0.4399 - val_accuracy: 0.7997\n",
            "Epoch 43/100\n",
            "684/684 [==============================] - 3s 5ms/step - loss: 0.4139 - accuracy: 0.8006 - val_loss: 0.4376 - val_accuracy: 0.7999\n",
            "Epoch 44/100\n",
            "684/684 [==============================] - 5s 8ms/step - loss: 0.4136 - accuracy: 0.7998 - val_loss: 0.4365 - val_accuracy: 0.7989\n",
            "Epoch 45/100\n",
            "684/684 [==============================] - 3s 4ms/step - loss: 0.4129 - accuracy: 0.8004 - val_loss: 0.4359 - val_accuracy: 0.7979\n",
            "Epoch 46/100\n",
            "684/684 [==============================] - 3s 4ms/step - loss: 0.4129 - accuracy: 0.7996 - val_loss: 0.4384 - val_accuracy: 0.8010\n",
            "Epoch 47/100\n",
            "684/684 [==============================] - 6s 9ms/step - loss: 0.4124 - accuracy: 0.8004 - val_loss: 0.4379 - val_accuracy: 0.7999\n",
            "Epoch 48/100\n",
            "684/684 [==============================] - 4s 6ms/step - loss: 0.4123 - accuracy: 0.8004 - val_loss: 0.4391 - val_accuracy: 0.7994\n",
            "Epoch 49/100\n",
            "684/684 [==============================] - 2s 3ms/step - loss: 0.4121 - accuracy: 0.8011 - val_loss: 0.4365 - val_accuracy: 0.7989\n",
            "Epoch 50/100\n",
            "684/684 [==============================] - 2s 3ms/step - loss: 0.4119 - accuracy: 0.8007 - val_loss: 0.4386 - val_accuracy: 0.7997\n",
            "Epoch 51/100\n",
            "684/684 [==============================] - 2s 3ms/step - loss: 0.4120 - accuracy: 0.7997 - val_loss: 0.4389 - val_accuracy: 0.8018\n",
            "Epoch 52/100\n",
            "684/684 [==============================] - 2s 3ms/step - loss: 0.4118 - accuracy: 0.8007 - val_loss: 0.4396 - val_accuracy: 0.8033\n",
            "Epoch 53/100\n",
            "684/684 [==============================] - 2s 3ms/step - loss: 0.4118 - accuracy: 0.8017 - val_loss: 0.4372 - val_accuracy: 0.8046\n",
            "Epoch 54/100\n",
            "684/684 [==============================] - 2s 3ms/step - loss: 0.4116 - accuracy: 0.8018 - val_loss: 0.4393 - val_accuracy: 0.8059\n",
            "Epoch 55/100\n",
            "684/684 [==============================] - 2s 3ms/step - loss: 0.4114 - accuracy: 0.8019 - val_loss: 0.4386 - val_accuracy: 0.8033\n",
            "Epoch 56/100\n",
            "684/684 [==============================] - 2s 4ms/step - loss: 0.4113 - accuracy: 0.8020 - val_loss: 0.4367 - val_accuracy: 0.8049\n",
            "Epoch 57/100\n",
            "684/684 [==============================] - 2s 3ms/step - loss: 0.4112 - accuracy: 0.8015 - val_loss: 0.4378 - val_accuracy: 0.8062\n",
            "Epoch 58/100\n",
            "684/684 [==============================] - 2s 4ms/step - loss: 0.4109 - accuracy: 0.8019 - val_loss: 0.4397 - val_accuracy: 0.8051\n",
            "Epoch 59/100\n",
            "684/684 [==============================] - 3s 4ms/step - loss: 0.4107 - accuracy: 0.8028 - val_loss: 0.4387 - val_accuracy: 0.8041\n",
            "Epoch 60/100\n",
            "684/684 [==============================] - 2s 4ms/step - loss: 0.4106 - accuracy: 0.8027 - val_loss: 0.4403 - val_accuracy: 0.8033\n",
            "Epoch 61/100\n",
            "684/684 [==============================] - 2s 4ms/step - loss: 0.4106 - accuracy: 0.8022 - val_loss: 0.4401 - val_accuracy: 0.8025\n",
            "Epoch 62/100\n",
            "684/684 [==============================] - 2s 3ms/step - loss: 0.4100 - accuracy: 0.8025 - val_loss: 0.4382 - val_accuracy: 0.8062\n",
            "Epoch 63/100\n",
            "684/684 [==============================] - 2s 3ms/step - loss: 0.4104 - accuracy: 0.8038 - val_loss: 0.4364 - val_accuracy: 0.8041\n",
            "Epoch 64/100\n",
            "684/684 [==============================] - 2s 3ms/step - loss: 0.4099 - accuracy: 0.8027 - val_loss: 0.4399 - val_accuracy: 0.8025\n",
            "Epoch 65/100\n",
            "684/684 [==============================] - 3s 5ms/step - loss: 0.4096 - accuracy: 0.8022 - val_loss: 0.4380 - val_accuracy: 0.8041\n",
            "Epoch 66/100\n",
            "684/684 [==============================] - 3s 4ms/step - loss: 0.4098 - accuracy: 0.8029 - val_loss: 0.4382 - val_accuracy: 0.8005\n",
            "Epoch 67/100\n",
            "684/684 [==============================] - 2s 3ms/step - loss: 0.4099 - accuracy: 0.8027 - val_loss: 0.4376 - val_accuracy: 0.8056\n",
            "Epoch 68/100\n",
            "684/684 [==============================] - 2s 3ms/step - loss: 0.4102 - accuracy: 0.8034 - val_loss: 0.4391 - val_accuracy: 0.8041\n",
            "Epoch 69/100\n",
            "684/684 [==============================] - 2s 4ms/step - loss: 0.4096 - accuracy: 0.8037 - val_loss: 0.4402 - val_accuracy: 0.8036\n",
            "Epoch 70/100\n",
            "684/684 [==============================] - 3s 4ms/step - loss: 0.4095 - accuracy: 0.8030 - val_loss: 0.4410 - val_accuracy: 0.8023\n",
            "Epoch 71/100\n",
            "684/684 [==============================] - 3s 4ms/step - loss: 0.4093 - accuracy: 0.8029 - val_loss: 0.4414 - val_accuracy: 0.8064\n",
            "Epoch 72/100\n",
            "684/684 [==============================] - 2s 3ms/step - loss: 0.4096 - accuracy: 0.8031 - val_loss: 0.4405 - val_accuracy: 0.8069\n",
            "Epoch 73/100\n",
            "684/684 [==============================] - 2s 3ms/step - loss: 0.4094 - accuracy: 0.8038 - val_loss: 0.4398 - val_accuracy: 0.8056\n",
            "Epoch 74/100\n",
            "684/684 [==============================] - 2s 3ms/step - loss: 0.4092 - accuracy: 0.8036 - val_loss: 0.4428 - val_accuracy: 0.8015\n",
            "Epoch 75/100\n",
            "684/684 [==============================] - 2s 3ms/step - loss: 0.4091 - accuracy: 0.8036 - val_loss: 0.4388 - val_accuracy: 0.8033\n",
            "Epoch 76/100\n",
            "684/684 [==============================] - 2s 3ms/step - loss: 0.4094 - accuracy: 0.8034 - val_loss: 0.4398 - val_accuracy: 0.8051\n",
            "Epoch 77/100\n",
            "684/684 [==============================] - 2s 3ms/step - loss: 0.4087 - accuracy: 0.8039 - val_loss: 0.4404 - val_accuracy: 0.8064\n",
            "Epoch 78/100\n",
            "684/684 [==============================] - 2s 3ms/step - loss: 0.4090 - accuracy: 0.8038 - val_loss: 0.4397 - val_accuracy: 0.8054\n",
            "Epoch 79/100\n",
            "684/684 [==============================] - 2s 3ms/step - loss: 0.4090 - accuracy: 0.8024 - val_loss: 0.4404 - val_accuracy: 0.8046\n",
            "Epoch 80/100\n",
            "684/684 [==============================] - 3s 4ms/step - loss: 0.4087 - accuracy: 0.8031 - val_loss: 0.4404 - val_accuracy: 0.8028\n",
            "Epoch 81/100\n",
            "684/684 [==============================] - 2s 4ms/step - loss: 0.4088 - accuracy: 0.8033 - val_loss: 0.4394 - val_accuracy: 0.8041\n",
            "Epoch 82/100\n",
            "684/684 [==============================] - 2s 3ms/step - loss: 0.4089 - accuracy: 0.8037 - val_loss: 0.4395 - val_accuracy: 0.8072\n",
            "Epoch 83/100\n",
            "684/684 [==============================] - 3s 4ms/step - loss: 0.4085 - accuracy: 0.8031 - val_loss: 0.4410 - val_accuracy: 0.8036\n",
            "Epoch 84/100\n",
            "684/684 [==============================] - 2s 3ms/step - loss: 0.4086 - accuracy: 0.8035 - val_loss: 0.4407 - val_accuracy: 0.8064\n",
            "Epoch 85/100\n",
            "684/684 [==============================] - 3s 4ms/step - loss: 0.4082 - accuracy: 0.8043 - val_loss: 0.4404 - val_accuracy: 0.8038\n",
            "Epoch 86/100\n",
            "684/684 [==============================] - 3s 4ms/step - loss: 0.4082 - accuracy: 0.8035 - val_loss: 0.4412 - val_accuracy: 0.8044\n",
            "Epoch 87/100\n",
            "684/684 [==============================] - 2s 3ms/step - loss: 0.4085 - accuracy: 0.8033 - val_loss: 0.4404 - val_accuracy: 0.8041\n",
            "Epoch 88/100\n",
            "684/684 [==============================] - 2s 3ms/step - loss: 0.4085 - accuracy: 0.8045 - val_loss: 0.4467 - val_accuracy: 0.8031\n",
            "Epoch 89/100\n",
            "684/684 [==============================] - 2s 3ms/step - loss: 0.4084 - accuracy: 0.8034 - val_loss: 0.4422 - val_accuracy: 0.8049\n",
            "Epoch 90/100\n",
            "684/684 [==============================] - 2s 4ms/step - loss: 0.4084 - accuracy: 0.8035 - val_loss: 0.4421 - val_accuracy: 0.8054\n",
            "Epoch 91/100\n",
            "684/684 [==============================] - 2s 4ms/step - loss: 0.4084 - accuracy: 0.8032 - val_loss: 0.4412 - val_accuracy: 0.8036\n",
            "Epoch 92/100\n",
            "684/684 [==============================] - 2s 4ms/step - loss: 0.4084 - accuracy: 0.8038 - val_loss: 0.4421 - val_accuracy: 0.8038\n",
            "Epoch 93/100\n",
            "684/684 [==============================] - 2s 3ms/step - loss: 0.4076 - accuracy: 0.8038 - val_loss: 0.4428 - val_accuracy: 0.8049\n",
            "Epoch 94/100\n",
            "684/684 [==============================] - 3s 4ms/step - loss: 0.4082 - accuracy: 0.8038 - val_loss: 0.4435 - val_accuracy: 0.8054\n",
            "Epoch 95/100\n",
            "684/684 [==============================] - 3s 4ms/step - loss: 0.4078 - accuracy: 0.8038 - val_loss: 0.4441 - val_accuracy: 0.8041\n",
            "Epoch 96/100\n",
            "684/684 [==============================] - 2s 3ms/step - loss: 0.4075 - accuracy: 0.8040 - val_loss: 0.4428 - val_accuracy: 0.8056\n",
            "Epoch 97/100\n",
            "684/684 [==============================] - 2s 4ms/step - loss: 0.4075 - accuracy: 0.8037 - val_loss: 0.4430 - val_accuracy: 0.8046\n",
            "Epoch 98/100\n",
            "684/684 [==============================] - 2s 3ms/step - loss: 0.4072 - accuracy: 0.8041 - val_loss: 0.4450 - val_accuracy: 0.8062\n",
            "Epoch 99/100\n",
            "684/684 [==============================] - 2s 3ms/step - loss: 0.4071 - accuracy: 0.8042 - val_loss: 0.4441 - val_accuracy: 0.8056\n",
            "Epoch 100/100\n",
            "684/684 [==============================] - 2s 3ms/step - loss: 0.4070 - accuracy: 0.8041 - val_loss: 0.4426 - val_accuracy: 0.8062\n"
          ]
        }
      ],
      "source": [
        "# Train the model\n",
        "#  YOUR CODE GOES HERE\n",
        "fit_model = nn.fit(X_train_scaled, y_train, validation_split=0.15, epochs=100)"
      ]
    },
    {
      "cell_type": "code",
      "execution_count": 26,
      "metadata": {
        "id": "w7Jvi7eHMzV5",
        "outputId": "264dbd73-c330-48d5-c71e-af241f55e0e1",
        "colab": {
          "base_uri": "https://localhost:8080/"
        }
      },
      "outputs": [
        {
          "output_type": "stream",
          "name": "stdout",
          "text": [
            "268/268 - 1s - loss: 0.4622 - accuracy: 0.7873 - 705ms/epoch - 3ms/step\n",
            "Loss: 0.4621768593788147, Accuracy: 0.7872886061668396\n"
          ]
        }
      ],
      "source": [
        "# Evaluate the model using the test data\n",
        "model_loss, model_accuracy = nn.evaluate(X_test_scaled,y_test,verbose=2)\n",
        "print(f\"Loss: {model_loss}, Accuracy: {model_accuracy}\")"
      ]
    },
    {
      "cell_type": "code",
      "execution_count": 27,
      "metadata": {
        "id": "vaBDZN4wMzV5",
        "colab": {
          "base_uri": "https://localhost:8080/",
          "height": 17
        },
        "outputId": "fb4bb4c4-b4d2-440a-ae48-4207df704735"
      },
      "outputs": [
        {
          "output_type": "display_data",
          "data": {
            "text/plain": [
              "<IPython.core.display.Javascript object>"
            ],
            "application/javascript": [
              "\n",
              "    async function download(id, filename, size) {\n",
              "      if (!google.colab.kernel.accessAllowed) {\n",
              "        return;\n",
              "      }\n",
              "      const div = document.createElement('div');\n",
              "      const label = document.createElement('label');\n",
              "      label.textContent = `Downloading \"${filename}\": `;\n",
              "      div.appendChild(label);\n",
              "      const progress = document.createElement('progress');\n",
              "      progress.max = size;\n",
              "      div.appendChild(progress);\n",
              "      document.body.appendChild(div);\n",
              "\n",
              "      const buffers = [];\n",
              "      let downloaded = 0;\n",
              "\n",
              "      const channel = await google.colab.kernel.comms.open(id);\n",
              "      // Send a message to notify the kernel that we're ready.\n",
              "      channel.send({})\n",
              "\n",
              "      for await (const message of channel.messages) {\n",
              "        // Send a message to notify the kernel that we're ready.\n",
              "        channel.send({})\n",
              "        if (message.buffers) {\n",
              "          for (const buffer of message.buffers) {\n",
              "            buffers.push(buffer);\n",
              "            downloaded += buffer.byteLength;\n",
              "            progress.value = downloaded;\n",
              "          }\n",
              "        }\n",
              "      }\n",
              "      const blob = new Blob(buffers, {type: 'application/binary'});\n",
              "      const a = document.createElement('a');\n",
              "      a.href = window.URL.createObjectURL(blob);\n",
              "      a.download = filename;\n",
              "      div.appendChild(a);\n",
              "      a.click();\n",
              "      div.remove();\n",
              "    }\n",
              "  "
            ]
          },
          "metadata": {}
        },
        {
          "output_type": "display_data",
          "data": {
            "text/plain": [
              "<IPython.core.display.Javascript object>"
            ],
            "application/javascript": [
              "download(\"download_3f618d95-ee22-470b-8817-0328ed5d6884\", \"deeplearningcharity_optimization.h5\", 71360)"
            ]
          },
          "metadata": {}
        }
      ],
      "source": [
        "# Export our model to HDF5 file\n",
        "#  YOUR CODE GOES HERE\n",
        "from google.colab import files\n",
        "\n",
        "nn.save('/content/deeplearningcharity_optimization.h5')\n",
        "files.download('/content/deeplearningcharity_optimization.h5')"
      ]
    },
    {
      "cell_type": "code",
      "source": [],
      "metadata": {
        "id": "-c0Qohw2YqNF"
      },
      "execution_count": null,
      "outputs": []
    }
  ],
  "metadata": {
    "kernelspec": {
      "display_name": "Python 3",
      "language": "python",
      "name": "python3"
    },
    "language_info": {
      "codemirror_mode": {
        "name": "ipython",
        "version": 3
      },
      "file_extension": ".py",
      "mimetype": "text/x-python",
      "name": "python",
      "nbconvert_exporter": "python",
      "pygments_lexer": "ipython3",
      "version": "3.7.6"
    },
    "colab": {
      "provenance": [],
      "include_colab_link": true
    }
  },
  "nbformat": 4,
  "nbformat_minor": 0
}